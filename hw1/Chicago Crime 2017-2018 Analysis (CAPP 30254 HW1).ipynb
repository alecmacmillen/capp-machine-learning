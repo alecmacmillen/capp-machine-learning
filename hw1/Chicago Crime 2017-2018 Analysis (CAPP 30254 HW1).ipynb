{
 "cells": [
  {
   "cell_type": "markdown",
   "metadata": {},
   "source": [
    "# CAPP30254 - Machine Learning for Public Policy\n",
    "## Homework 1\n",
    "Alec MacMillen\n",
    "Due: 4/9/2019\n",
    "\n",
    "The purpose of this document is to perform analysis of Chicago crime data pulled from the city's open data API. The data were scraped and cleaned in chicago_crime.py and acs.py; this Jupyter notebook takes that cleaned data and performs some basic visualizations and analysis. Written conclusions and answers to homework questions are written up here as well."
   ]
  },
  {
   "cell_type": "code",
   "execution_count": 1,
   "metadata": {},
   "outputs": [],
   "source": [
    "import pandas as pd\n",
    "import numpy as np\n",
    "import math\n",
    "import matplotlib.pyplot as plt\n",
    "import seaborn as sns\n",
    "pd.options.display.max_rows = 55\n",
    "pd.options.mode.chained_assignment = None\n",
    "%matplotlib inline"
   ]
  },
  {
   "cell_type": "code",
   "execution_count": 2,
   "metadata": {},
   "outputs": [],
   "source": [
    "full_data = pd.read_csv(\"acs_crime_merged.csv\")"
   ]
  },
  {
   "cell_type": "code",
   "execution_count": 3,
   "metadata": {},
   "outputs": [],
   "source": [
    "full_data['community_area'].fillna(0, inplace=True)\n",
    "full_data['community_area'] = full_data['community_area'].astype(int).astype(str)\n",
    "\n",
    "full_data['ward'].fillna(0, inplace=True)\n",
    "full_data['ward'] = full_data['ward'].astype(int).astype(str)"
   ]
  },
  {
   "cell_type": "markdown",
   "metadata": {},
   "source": [
    "### Question 1\n",
    "#### Summary Statistics & Graphs"
   ]
  },
  {
   "cell_type": "code",
   "execution_count": 4,
   "metadata": {},
   "outputs": [
    {
     "data": {
      "image/png": "[encoded data removed]",
      "text/plain": [
       "<Figure size 432x288 with 1 Axes>"
      ]
     },
     "metadata": {
      "needs_background": "light"
     },
     "output_type": "display_data"
    }
   ],
   "source": [
    "top_crimes_bothyears = full_data.groupby(['primary_type']).size().reset_index().sort_values(0, ascending=False)[:10]\n",
    "top_crimes_bothyears.rename(columns={0:'count'}, inplace=True)\n",
    "top_plot = top_crimes_bothyears.plot.bar(x='primary_type', y='count')"
   ]
  },
  {
   "cell_type": "markdown",
   "metadata": {},
   "source": [
    "The above chart shows the 10 most commonly reported types of crime across the two-year period 1/1/2017-12/31/2018. Theft (more than 120,000 cases) and battery (approximately 100,000 cases) were by far the most common types of crime. Criminal damage (about 60,000 cases) was the next most common type. The next seven most frequently occuring types were Assault, Deceptive Practice, \"Other Offense,\" Burglary, Narcotics, Robbery, and Motor Vehicle Theft, with reported cases over the two-year period falling in the 20,000-40,000 case range."
   ]
  },
  {
   "cell_type": "code",
   "execution_count": 5,
   "metadata": {},
   "outputs": [
    {
     "data": {
      "text/html": [
       "<style  type=\"text/css\" >\n",
       "</style>  \n",
       "<table id=\"T_d292edbe_5b23_11e9_a015_f362e337f814\" > \n",
       "<thead>    <tr> \n",
       "        <th class=\"index_name level0\" >Year</th> \n",
       "        <th class=\"col_heading level0 col0\" >2017</th> \n",
       "        <th class=\"col_heading level0 col1\" >2018</th> \n",
       "        <th class=\"col_heading level0 col2\" >Change</th> \n",
       "    </tr>    <tr> \n",
       "        <th class=\"index_name level0\" >Type</th> \n",
       "        <th class=\"blank\" ></th> \n",
       "        <th class=\"blank\" ></th> \n",
       "        <th class=\"blank\" ></th> \n",
       "    </tr></thead> \n",
       "<tbody>    <tr> \n",
       "        <th id=\"T_d292edbe_5b23_11e9_a015_f362e337f814level0_row0\" class=\"row_heading level0 row0\" >THEFT</th> \n",
       "        <td id=\"T_d292edbe_5b23_11e9_a015_f362e337f814row0_col0\" class=\"data row0 col0\" >63586</td> \n",
       "        <td id=\"T_d292edbe_5b23_11e9_a015_f362e337f814row0_col1\" class=\"data row0 col1\" >64025</td> \n",
       "        <td id=\"T_d292edbe_5b23_11e9_a015_f362e337f814row0_col2\" class=\"data row0 col2\" >0.69%</td> \n",
       "    </tr>    <tr> \n",
       "        <th id=\"T_d292edbe_5b23_11e9_a015_f362e337f814level0_row1\" class=\"row_heading level0 row1\" >BATTERY</th> \n",
       "        <td id=\"T_d292edbe_5b23_11e9_a015_f362e337f814row1_col0\" class=\"data row1 col0\" >49137</td> \n",
       "        <td id=\"T_d292edbe_5b23_11e9_a015_f362e337f814row1_col1\" class=\"data row1 col1\" >49719</td> \n",
       "        <td id=\"T_d292edbe_5b23_11e9_a015_f362e337f814row1_col2\" class=\"data row1 col2\" >1.2%</td> \n",
       "    </tr>    <tr> \n",
       "        <th id=\"T_d292edbe_5b23_11e9_a015_f362e337f814level0_row2\" class=\"row_heading level0 row2\" >CRIMINAL DAMAGE</th> \n",
       "        <td id=\"T_d292edbe_5b23_11e9_a015_f362e337f814row2_col0\" class=\"data row2 col0\" >28955</td> \n",
       "        <td id=\"T_d292edbe_5b23_11e9_a015_f362e337f814row2_col1\" class=\"data row2 col1\" >27700</td> \n",
       "        <td id=\"T_d292edbe_5b23_11e9_a015_f362e337f814row2_col2\" class=\"data row2 col2\" >-4.3%</td> \n",
       "    </tr>    <tr> \n",
       "        <th id=\"T_d292edbe_5b23_11e9_a015_f362e337f814level0_row3\" class=\"row_heading level0 row3\" >ASSAULT</th> \n",
       "        <td id=\"T_d292edbe_5b23_11e9_a015_f362e337f814row3_col0\" class=\"data row3 col0\" >19252</td> \n",
       "        <td id=\"T_d292edbe_5b23_11e9_a015_f362e337f814row3_col1\" class=\"data row3 col1\" >20342</td> \n",
       "        <td id=\"T_d292edbe_5b23_11e9_a015_f362e337f814row3_col2\" class=\"data row3 col2\" >5.7%</td> \n",
       "    </tr>    <tr> \n",
       "        <th id=\"T_d292edbe_5b23_11e9_a015_f362e337f814level0_row4\" class=\"row_heading level0 row4\" >DECEPTIVE PRACTICE</th> \n",
       "        <td id=\"T_d292edbe_5b23_11e9_a015_f362e337f814row4_col0\" class=\"data row4 col0\" >17768</td> \n",
       "        <td id=\"T_d292edbe_5b23_11e9_a015_f362e337f814row4_col1\" class=\"data row4 col1\" >17862</td> \n",
       "        <td id=\"T_d292edbe_5b23_11e9_a015_f362e337f814row4_col2\" class=\"data row4 col2\" >0.53%</td> \n",
       "    </tr>    <tr> \n",
       "        <th id=\"T_d292edbe_5b23_11e9_a015_f362e337f814level0_row5\" class=\"row_heading level0 row5\" >OTHER OFFENSE</th> \n",
       "        <td id=\"T_d292edbe_5b23_11e9_a015_f362e337f814row5_col0\" class=\"data row5 col0\" >16965</td> \n",
       "        <td id=\"T_d292edbe_5b23_11e9_a015_f362e337f814row5_col1\" class=\"data row5 col1\" >16970</td> \n",
       "        <td id=\"T_d292edbe_5b23_11e9_a015_f362e337f814row5_col2\" class=\"data row5 col2\" >0.029%</td> \n",
       "    </tr>    <tr> \n",
       "        <th id=\"T_d292edbe_5b23_11e9_a015_f362e337f814level0_row6\" class=\"row_heading level0 row6\" >NARCOTICS</th> \n",
       "        <td id=\"T_d292edbe_5b23_11e9_a015_f362e337f814row6_col0\" class=\"data row6 col0\" >11475</td> \n",
       "        <td id=\"T_d292edbe_5b23_11e9_a015_f362e337f814row6_col1\" class=\"data row6 col1\" >12798</td> \n",
       "        <td id=\"T_d292edbe_5b23_11e9_a015_f362e337f814row6_col2\" class=\"data row6 col2\" >1.2e+01%</td> \n",
       "    </tr>    <tr> \n",
       "        <th id=\"T_d292edbe_5b23_11e9_a015_f362e337f814level0_row7\" class=\"row_heading level0 row7\" >BURGLARY</th> \n",
       "        <td id=\"T_d292edbe_5b23_11e9_a015_f362e337f814row7_col0\" class=\"data row7 col0\" >12946</td> \n",
       "        <td id=\"T_d292edbe_5b23_11e9_a015_f362e337f814row7_col1\" class=\"data row7 col1\" >11687</td> \n",
       "        <td id=\"T_d292edbe_5b23_11e9_a015_f362e337f814row7_col2\" class=\"data row7 col2\" >-9.7%</td> \n",
       "    </tr>    <tr> \n",
       "        <th id=\"T_d292edbe_5b23_11e9_a015_f362e337f814level0_row8\" class=\"row_heading level0 row8\" >MOTOR VEHICLE THEFT</th> \n",
       "        <td id=\"T_d292edbe_5b23_11e9_a015_f362e337f814row8_col0\" class=\"data row8 col0\" >11367</td> \n",
       "        <td id=\"T_d292edbe_5b23_11e9_a015_f362e337f814row8_col1\" class=\"data row8 col1\" >9964</td> \n",
       "        <td id=\"T_d292edbe_5b23_11e9_a015_f362e337f814row8_col2\" class=\"data row8 col2\" >-1.2e+01%</td> \n",
       "    </tr>    <tr> \n",
       "        <th id=\"T_d292edbe_5b23_11e9_a015_f362e337f814level0_row9\" class=\"row_heading level0 row9\" >ROBBERY</th> \n",
       "        <td id=\"T_d292edbe_5b23_11e9_a015_f362e337f814row9_col0\" class=\"data row9 col0\" >11869</td> \n",
       "        <td id=\"T_d292edbe_5b23_11e9_a015_f362e337f814row9_col1\" class=\"data row9 col1\" >9679</td> \n",
       "        <td id=\"T_d292edbe_5b23_11e9_a015_f362e337f814row9_col2\" class=\"data row9 col2\" >-1.8e+01%</td> \n",
       "    </tr></tbody> \n",
       "</table> "
      ],
      "text/plain": [
       "<pandas.io.formats.style.Styler at 0x1cc2d3ef390>"
      ]
     },
     "execution_count": 5,
     "metadata": {},
     "output_type": "execute_result"
    }
   ],
   "source": [
    "top_crimes = full_data.groupby(['year', 'primary_type']).size().sort_values(ascending=False)[:20].reset_index()\n",
    "top_crimes.rename(columns={0:'Count','year':'Year','primary_type':'Type'}, inplace=True)\n",
    "top_crimes_pivot = top_crimes.pivot(index='Type', columns='Year', values='Count')\n",
    "top_crimes_pivot.sort_values(2018, ascending=False, inplace=True)\n",
    "top_crimes_pivot['Change'] = (top_crimes_pivot[2018]-top_crimes_pivot[2017])/top_crimes_pivot[2017]\n",
    "top_crimes_table = top_crimes_pivot.style.format({'Change': lambda x: \"{:.2}%\".format(x*100)})\n",
    "top_crimes_table"
   ]
  },
  {
   "cell_type": "markdown",
   "metadata": {},
   "source": [
    "This table breaks out the top 10 most commonly occurring types of crime for each of the two years 2017 and 2018. Theft and Battery were by far the most commonly reported crime in each year, and each increased in 2018 as compared to 2017, but only by a very slight amount.\n",
    "\n",
    "Rates of Deceptive Practice, \"Other Offense\", Narcotics, Motor Vehicle Theft, and Robbery were virtually static year-over-year. Criminal Damage fell by 4.3%, Assault increased by 5.7%, and Burglary saw the largest yearly change, with the number of cases reported falling by 9.7%."
   ]
  },
  {
   "cell_type": "code",
   "execution_count": 6,
   "metadata": {},
   "outputs": [
    {
     "data": {
      "image/png": "[encoded data removed]",
      "text/plain": [
       "<Figure size 432x288 with 1 Axes>"
      ]
     },
     "metadata": {},
     "output_type": "display_data"
    }
   ],
   "source": [
    "top_crimes_2017 = top_crimes[top_crimes['Year']==2017][:5]\n",
    "type_other = len(full_data[full_data['year']==2017]) - top_crimes_2017['Count'].sum()\n",
    "top_crimes_2017 = top_crimes_2017.append({'Year':2017, 'Type':'ALL OTHER', 'Count':type_other}, ignore_index=True)\n",
    "colors = ['gold', 'yellowgreen', 'lightcoral', 'lightskyblue', 'violet', 'silver']\n",
    "explode = (0, 0, 0, 0, 0, 0.1)\n",
    "plt.pie(top_crimes_2017['Count'], explode=explode, labels=top_crimes_2017['Type'], colors=colors, autopct = '%1.1f%%', shadow=True, startangle=90)\n",
    "plt.axis('equal')\n",
    "plt.suptitle('Crime Types, 2017')\n",
    "plt.show()"
   ]
  },
  {
   "cell_type": "markdown",
   "metadata": {},
   "source": [
    "This pie chart shows the top 5 crime types in 2017 as a proportion of all crimes in that year, with a reference catch-all category that shows all other types of crime for reference."
   ]
  },
  {
   "cell_type": "code",
   "execution_count": 7,
   "metadata": {},
   "outputs": [
    {
     "data": {
      "text/plain": [
       "<matplotlib.axes._subplots.AxesSubplot at 0x1cc1b83edd8>"
      ]
     },
     "execution_count": 7,
     "metadata": {},
     "output_type": "execute_result"
    },
    {
     "data": {
      "image/png": "[encoded data removed]",
      "text/plain": [
       "<Figure size 432x288 with 1 Axes>"
      ]
     },
     "metadata": {
      "needs_background": "light"
     },
     "output_type": "display_data"
    }
   ],
   "source": [
    "top_crimes_bar = top_crimes[:10]\n",
    "top_crimes_bar = top_crimes_bar.pivot(index='Type', columns='Year', values='Count')\n",
    "plot1 = top_crimes_bar.plot.bar()\n",
    "plot1"
   ]
  },
  {
   "cell_type": "markdown",
   "metadata": {},
   "source": [
    "The incidence of each of the top 5 most common crime types was virtually unchanged year-over-year from 2017 to 2018. There was a slight uptick in Assault and Battery and a slight drop in Criminal Damage, but the overall picture was fairly static between the two years."
   ]
  },
  {
   "cell_type": "code",
   "execution_count": 8,
   "metadata": {},
   "outputs": [],
   "source": [
    "by_ward1 = full_data[['ward', 'primary_type']]\n",
    "by_ward2 = full_data[['ward', 'location_description']]"
   ]
  },
  {
   "cell_type": "code",
   "execution_count": 9,
   "metadata": {},
   "outputs": [
    {
     "name": "stdout",
     "output_type": "stream",
     "text": [
      "ward  count primary_type location_description\n",
      "   1  10015        THEFT               STREET\n",
      "   2  21343        THEFT               STREET\n",
      "   3  13818      BATTERY               STREET\n",
      "   4  10448        THEFT               STREET\n",
      "   5  12364      BATTERY            APARTMENT\n",
      "   6  17228      BATTERY               STREET\n",
      "   7  13639      BATTERY            RESIDENCE\n",
      "   8  13956      BATTERY            RESIDENCE\n",
      "   9  14132      BATTERY            RESIDENCE\n",
      "  10   8415      BATTERY            RESIDENCE\n",
      "  11   6482        THEFT               STREET\n",
      "  12   6216      BATTERY               STREET\n",
      "  13   6081        THEFT            RESIDENCE\n",
      "  14   6285        THEFT               STREET\n",
      "  15  11892      BATTERY            RESIDENCE\n",
      "  16  13064      BATTERY               STREET\n",
      "  17  17467      BATTERY            RESIDENCE\n",
      "  18   8518      BATTERY            RESIDENCE\n",
      "  19   4402        THEFT            RESIDENCE\n",
      "  20  15112      BATTERY            APARTMENT\n",
      "  21  16085        THEFT            RESIDENCE\n",
      "  22   6315      BATTERY               STREET\n",
      "  23   6186        THEFT            RESIDENCE\n",
      "  24  24914      BATTERY               STREET\n",
      "  25   7598        THEFT               STREET\n",
      "  26   7286        THEFT               STREET\n",
      "  27  20959        THEFT               STREET\n",
      "  28  22916      BATTERY               STREET\n",
      "  29  11218      BATTERY               STREET\n",
      "  30   6413      BATTERY               STREET\n",
      "  31   6607        THEFT               STREET\n",
      "  32   8814        THEFT               STREET\n",
      "  33   5156        THEFT               STREET\n",
      "  34  13627      BATTERY            RESIDENCE\n",
      "  35   6418        THEFT               STREET\n",
      "  36   5262        THEFT            RESIDENCE\n",
      "  37  13003      BATTERY               STREET\n",
      "  38   5274        THEFT            RESIDENCE\n",
      "  39   5099        THEFT               STREET\n",
      "  40   5689        THEFT               STREET\n",
      "  41   5754        THEFT            RESIDENCE\n",
      "  42  34943        THEFT           RESTAURANT\n",
      "  43   8196        THEFT               STREET\n",
      "  44   8112        THEFT               STREET\n",
      "  45   5477        THEFT               STREET\n",
      "  46   6656        THEFT            APARTMENT\n",
      "  47   5341        THEFT               STREET\n",
      "  48   5252        THEFT            APARTMENT\n",
      "  49   7392        THEFT            APARTMENT\n",
      "  50   5681        THEFT               STREET\n"
     ]
    }
   ],
   "source": [
    "ward_a = by_ward1.groupby(['ward']).agg(lambda x: x.value_counts().index[0]).reset_index().sort_values('ward')\n",
    "ward_a['ward'] = ward_a['ward'].astype(int)\n",
    "ward_b = by_ward2.groupby(['ward']).agg(lambda x: x.value_counts().index[0]).reset_index().sort_values('ward')\n",
    "ward_b['ward'] = ward_b['ward'].astype(int)\n",
    "ward_c = by_ward1.groupby(['ward']).size().reset_index()\n",
    "ward_c['ward'] = ward_c['ward'].astype(int)\n",
    "\n",
    "type_location_ward = ward_c.merge(ward_a, on='ward', how='inner')\n",
    "type_location_ward = type_location_ward.merge(ward_b, on='ward', how='inner')\n",
    "type_location_ward.sort_values('ward', inplace=True)\n",
    "type_location_ward.rename(columns={0:'count'}, inplace=True)\n",
    "type_location_ward.drop(labels=0, axis=0, inplace=True)\n",
    "pd.options.display.max_rows = 55\n",
    "print(type_location_ward.to_string(index=False))"
   ]
  },
  {
   "cell_type": "markdown",
   "metadata": {},
   "source": [
    "The above table shows the total number of reported crimes, most common crime type, and most common crime setting (e.g., Street) for each of Chicago's 50 wards in the two-year period 2017-2018. The 19th Ward saw the lowest number of crimes reported, with 4,402. The 42nd Ward had the highest number of reported crimes, with 34,943. Theft and Battery were the top type of reported crime in every single ward. The most commonly reported crime setting was Street for most wards, however, some wards had more crimes reported on the Street or in an Apartment or Residence. The one outlier in this regard was the 42nd Ward, which had the plurality of its crimes reported in a Restaurant - this is an unusual finding and warrants further investigation to determine whether this is a genuine phenomenon or some quirk or error in the data."
   ]
  },
  {
   "cell_type": "code",
   "execution_count": 10,
   "metadata": {},
   "outputs": [
    {
     "name": "stdout",
     "output_type": "stream",
     "text": [
      "ward  count\n",
      "  42  34943\n",
      "  24  24914\n",
      "  28  22916\n",
      "   2  21343\n",
      "  27  20959\n",
      "  17  17467\n",
      "   6  17228\n",
      "  21  16085\n",
      "  20  15112\n",
      "   9  14132\n"
     ]
    }
   ],
   "source": [
    "top_wards = type_location_ward.sort_values('count', ascending=False)[:10]\n",
    "top_wards = top_wards[['ward', 'count']]\n",
    "print(top_wards.to_string(index=False))"
   ]
  },
  {
   "cell_type": "markdown",
   "metadata": {},
   "source": [
    "This table shows the 10 wards with the highest number of crimes reported in 2017-2018. Ward 42 has by far the highest number of crimes in the 2-year period, with 10,000 more than the next-highest ward, Ward 24."
   ]
  },
  {
   "cell_type": "markdown",
   "metadata": {},
   "source": [
    "### Question 2\n",
    "#### Parts 1-3"
   ]
  },
  {
   "cell_type": "code",
   "execution_count": 11,
   "metadata": {},
   "outputs": [],
   "source": [
    "full_2017 = full_data[full_data['year']==2017]\n",
    "full_2018 = full_data[full_data['year']==2018]\n",
    "types_2017 = full_2017[['zipcode', 'primary_type']].groupby(['zipcode']).agg(lambda x: x.value_counts().index[0]).reset_index()\n",
    "types_2018 = full_2018[['zipcode', 'primary_type']].groupby(['zipcode']).agg(lambda x: x.value_counts().index[0]).reset_index()\n",
    "\n",
    "# Zip codes where battery was the most commonly reported crime\n",
    "battery_2017 = types_2017[types_2017['primary_type']=='BATTERY']\n",
    "battery_2018 = types_2018[types_2018['primary_type']=='BATTERY']"
   ]
  },
  {
   "cell_type": "code",
   "execution_count": 12,
   "metadata": {},
   "outputs": [],
   "source": [
    "# It's unlikely that any zip codes will have HOMICIDE as the most commonly reported crime, so instead, look for the 10 zipcodes\n",
    "# with the highest number of reported murders\n",
    "homicide_2017 = full_2017[full_2017['primary_type']=='HOMICIDE']\n",
    "homicide_2017_counts = homicide_2017.groupby(['zipcode']).size().reset_index().sort_values(0, ascending=False)[:10]\n",
    "\n",
    "homicide_2018 = full_2018[full_2018['primary_type']=='HOMICIDE']\n",
    "homicide_2018_counts = homicide_2018.groupby(['zipcode']).size().reset_index().sort_values(0, ascending=False)[:10]"
   ]
  },
  {
   "cell_type": "code",
   "execution_count": 13,
   "metadata": {},
   "outputs": [],
   "source": [
    "acs = pd.read_csv(\"acs_full.csv\")"
   ]
  },
  {
   "cell_type": "code",
   "execution_count": 14,
   "metadata": {},
   "outputs": [],
   "source": [
    "acs.rename(columns={'zip code tabulation area':'zipcode'}, inplace=True)\n",
    "acs.drop('pct_hs', axis=1, inplace=True)"
   ]
  },
  {
   "cell_type": "code",
   "execution_count": 15,
   "metadata": {},
   "outputs": [
    {
     "data": {
      "text/plain": [
       "Index(['med_hhinc', 'pct_blk', 'med_unitval', 'zipcode'], dtype='object')"
      ]
     },
     "execution_count": 15,
     "metadata": {},
     "output_type": "execute_result"
    }
   ],
   "source": [
    "acs.columns"
   ]
  },
  {
   "cell_type": "code",
   "execution_count": 16,
   "metadata": {},
   "outputs": [],
   "source": [
    "homicide_chars_2017 = acs[acs['zipcode'].isin(homicide_2017_counts['zipcode'])]\n",
    "battery_chars_2017 = acs[acs['zipcode'].isin(battery_2017['zipcode'])]"
   ]
  },
  {
   "cell_type": "code",
   "execution_count": 17,
   "metadata": {},
   "outputs": [],
   "source": [
    "homicide_chars_2018 = acs[acs['zipcode'].isin(homicide_2018_counts['zipcode'])]\n",
    "battery_chars_2018 = acs[acs['zipcode'].isin(battery_2018['zipcode'])]"
   ]
  },
  {
   "cell_type": "code",
   "execution_count": 18,
   "metadata": {},
   "outputs": [
    {
     "name": "stdout",
     "output_type": "stream",
     "text": [
      "Summary characteristics of zip codes with 'HOMICIDE' in 2017:\n",
      "Average zip median HH income:  $30,166.20\n",
      "Average zip pct black:  84.54%\n",
      "Average zip median unit value:  $144,250.00\n"
     ]
    }
   ],
   "source": [
    "print(\"Summary characteristics of zip codes with 'HOMICIDE' in 2017:\")\n",
    "print(\"Average zip median HH income: \", \"${:,.2f}\".format(homicide_chars_2017['med_hhinc'].mean()))\n",
    "print(\"Average zip pct black: \", \"{0:.2%}\".format(homicide_chars_2017['pct_blk'].mean()/100))\n",
    "print(\"Average zip median unit value: \", \"${:,.2f}\".format(homicide_chars_2017['med_unitval'].mean()))"
   ]
  },
  {
   "cell_type": "code",
   "execution_count": 19,
   "metadata": {},
   "outputs": [
    {
     "name": "stdout",
     "output_type": "stream",
     "text": [
      "Summary characteristics of zip codes with 'BATTERY' in 2017:\n",
      "Average zip median HH income:  $42,254.38\n",
      "Average zip pct black:  48.10%\n",
      "Average zip median unit value:  $173,479.17\n"
     ]
    }
   ],
   "source": [
    "print(\"Summary characteristics of zip codes with 'BATTERY' in 2017:\")\n",
    "print(\"Average zip median HH income: \", \"${:,.2f}\".format(battery_chars_2017['med_hhinc'].mean()))\n",
    "print(\"Average zip pct black: \", \"{0:.2%}\".format(battery_chars_2017['pct_blk'].mean()/100))\n",
    "print(\"Average zip median unit value: \", \"${:,.2f}\".format(battery_chars_2017['med_unitval'].mean()))"
   ]
  },
  {
   "cell_type": "code",
   "execution_count": 20,
   "metadata": {},
   "outputs": [
    {
     "name": "stdout",
     "output_type": "stream",
     "text": [
      "Summary characteristics of zip codes with 'HOMICIDE' in 2018:\n",
      "Average zip median HH income:  $29,380.20\n",
      "Average zip pct black:  89.50%\n",
      "Average zip median unit value:  $132,060.00\n"
     ]
    }
   ],
   "source": [
    "print(\"Summary characteristics of zip codes with 'HOMICIDE' in 2018:\")\n",
    "print(\"Average zip median HH income: \", \"${:,.2f}\".format(homicide_chars_2018['med_hhinc'].mean()))\n",
    "print(\"Average zip pct black: \", \"{0:.2%}\".format(homicide_chars_2018['pct_blk'].mean()/100))\n",
    "print(\"Average zip median unit value: \", \"${:,.2f}\".format(homicide_chars_2018['med_unitval'].mean()))"
   ]
  },
  {
   "cell_type": "code",
   "execution_count": 21,
   "metadata": {},
   "outputs": [
    {
     "name": "stdout",
     "output_type": "stream",
     "text": [
      "Summary characteristics of zip codes with 'BATTERY' in 2018:\n",
      "Average zip median HH income:  $42,511.44\n",
      "Average zip pct black:  47.48%\n",
      "Average zip median unit value:  $169,864.00\n"
     ]
    }
   ],
   "source": [
    "print(\"Summary characteristics of zip codes with 'BATTERY' in 2018:\")\n",
    "print(\"Average zip median HH income: \", \"${:,.2f}\".format(battery_chars_2018['med_hhinc'].mean()))\n",
    "print(\"Average zip pct black: \", \"{0:.2%}\".format(battery_chars_2018['pct_blk'].mean()/100))\n",
    "print(\"Average zip median unit value: \", \"${:,.2f}\".format(battery_chars_2018['med_unitval'].mean()))"
   ]
  },
  {
   "cell_type": "markdown",
   "metadata": {},
   "source": [
    "For comparison's sake, analysis of zip codes that had 'BATTERY' used the zip codes that had 'BATTERY' as their most commonly reported crime. Because no zip code had 'HOMICIDE' as its most commonly reported crime (thankfully), the zip-by-zip demographic analysis used the 10 zip codes with the highest raw number of homicides in each year 2017 and 2018.\n",
    "\n",
    "Based on the 5-year ACS data, zip codes that have HOMICIDE tend to have lower household income, lower median unit (property) values, and have a higher proportion of black residents. This pattern held true over both years 2017 and 2018. For example, in 2017, zip codes with HOMICIDE had an average median household income of \\\\$30,166.20, while for zip codes with BATTERY it was \\\\$42,254.38. The corresponding figures in 2018 were \\\\$29,380.20 and \\\\$42,444.83, respectively. The same pattern holds true with median unit (property) value.\n",
    "\n",
    "In 2017, zip codes with HOMICIDE were 84.54% black (89.50% in 2018), while zip codes with BATTERY were 48.10% black (49.30% in 2018). Apparently this trend "
   ]
  },
  {
   "cell_type": "markdown",
   "metadata": {},
   "source": [
    "#### Part 4\n",
    "Zip codes that get \"Deceptive Practice\" vs. \"Sex Offense.\""
   ]
  },
  {
   "cell_type": "code",
   "execution_count": 22,
   "metadata": {},
   "outputs": [],
   "source": [
    "deceptive_practice = full_data[full_data['primary_type']=='DECEPTIVE PRACTICE']\n",
    "deceptive_practice_counts = deceptive_practice.groupby(['zipcode']).size().reset_index().sort_values(0, ascending=False)[:20]\n",
    "\n",
    "sex_offense = full_data[full_data['primary_type']=='SEX OFFENSE']\n",
    "sex_offense_counts = sex_offense.groupby(['zipcode']).size().reset_index().sort_values(0, ascending=False)[:20]\n",
    "\n",
    "dp_zips = acs[acs['zipcode'].isin(deceptive_practice_counts['zipcode'])]\n",
    "dp_zips.drop(labels=32268, axis=0, inplace=True)\n",
    "so_zips = acs[acs['zipcode'].isin(sex_offense_counts['zipcode'])]\n",
    "so_zips.drop(labels=32268, axis=0, inplace=True)"
   ]
  },
  {
   "cell_type": "code",
   "execution_count": 23,
   "metadata": {},
   "outputs": [
    {
     "name": "stdout",
     "output_type": "stream",
     "text": [
      "Summary characteristics of zip codes with 'DECEPTIVE PRACTICE':\n",
      "Average zip median HH income:  $59,802.37\n",
      "Average zip pct black:  45.28%\n",
      "Average zip median unit value:  $283,652.63\n"
     ]
    }
   ],
   "source": [
    "print(\"Summary characteristics of zip codes with 'DECEPTIVE PRACTICE':\")\n",
    "print(\"Average zip median HH income: \", \"${:,.2f}\".format(dp_zips['med_hhinc'].mean()))\n",
    "print(\"Average zip pct black: \", \"{0:.2%}\".format(dp_zips['pct_blk'].mean()/100))\n",
    "print(\"Average zip median unit value: \", \"${:,.2f}\".format(dp_zips['med_unitval'].mean()))"
   ]
  },
  {
   "cell_type": "code",
   "execution_count": 24,
   "metadata": {},
   "outputs": [
    {
     "name": "stdout",
     "output_type": "stream",
     "text": [
      "Summary characteristics of zip codes with 'SEX_OFFENSE':\n",
      "Average zip median HH income:  $42,280.95\n",
      "Average zip pct black:  48.62%\n",
      "Average zip median unit value:  $210,663.16\n"
     ]
    }
   ],
   "source": [
    "print(\"Summary characteristics of zip codes with 'SEX_OFFENSE':\")\n",
    "print(\"Average zip median HH income: \", \"${:,.2f}\".format(so_zips['med_hhinc'].mean()))\n",
    "print(\"Average zip pct black: \", \"{0:.2%}\".format(so_zips['pct_blk'].mean()/100))\n",
    "print(\"Average zip median unit value: \", \"${:,.2f}\".format(so_zips['med_unitval'].mean()))"
   ]
  },
  {
   "cell_type": "markdown",
   "metadata": {},
   "source": [
    "Zip codes that have \"DECEPTIVE PRACTICE\" are more similar to zip codes with \"SEX OFFENSE\" than zip codes with \"HOMICIDE\" and \"BATTERY.\" For the aggregated two-year 2017-2018 period, the two types of zip codes had roughly an equal proportion of black residents (45.28% for Deceptive Practice zips and 48.62% for Sex Offense zips). On the other hand, median HH incomes and median unit values were a bit lower in Sex Offense zips: median HH incomes were \\\\$42,280.95 vs. \\\\$59,802.37 for Deceptive Practice zips, and median unit values were \\\\$210,663.16 vs. \\\\$283,652.63 for Deceptive Practice zips."
   ]
  },
  {
   "cell_type": "markdown",
   "metadata": {},
   "source": [
    "### Question 3\n",
    "#### Part 1\n",
    "There do not appear to be any major shifts in crime on a citywide basis in Chicago from 2017 to 2018. As shown in the table below, there were no wards for which the number of crimes reported in 2018 was more than 10% different (in either direction) than the number reported in 2017. As referenced in the 2017-2018 bar plot of top 5 crime types above (in question 1), there did not appear to be any major shifts in the *types* of crimes reported, either. At a macro level, there were 264,981 crimes reported in 2017 and 263,543 reported in 2018."
   ]
  },
  {
   "cell_type": "code",
   "execution_count": 25,
   "metadata": {},
   "outputs": [
    {
     "data": {
      "text/html": [
       "<style  type=\"text/css\" >\n",
       "</style>  \n",
       "<table id=\"T_d5f74c78_5b23_11e9_aaed_f362e337f814\" > \n",
       "<thead>    <tr> \n",
       "        <th class=\"index_name level0\" >Year</th> \n",
       "        <th class=\"col_heading level0 col0\" >2017</th> \n",
       "        <th class=\"col_heading level0 col1\" >2018</th> \n",
       "        <th class=\"col_heading level0 col2\" >Change</th> \n",
       "    </tr>    <tr> \n",
       "        <th class=\"index_name level0\" >Ward</th> \n",
       "        <th class=\"blank\" ></th> \n",
       "        <th class=\"blank\" ></th> \n",
       "        <th class=\"blank\" ></th> \n",
       "    </tr></thead> \n",
       "<tbody>    <tr> \n",
       "        <th id=\"T_d5f74c78_5b23_11e9_aaed_f362e337f814level0_row0\" class=\"row_heading level0 row0\" >42</th> \n",
       "        <td id=\"T_d5f74c78_5b23_11e9_aaed_f362e337f814row0_col0\" class=\"data row0 col0\" >17149</td> \n",
       "        <td id=\"T_d5f74c78_5b23_11e9_aaed_f362e337f814row0_col1\" class=\"data row0 col1\" >17794</td> \n",
       "        <td id=\"T_d5f74c78_5b23_11e9_aaed_f362e337f814row0_col2\" class=\"data row0 col2\" >3.8%</td> \n",
       "    </tr>    <tr> \n",
       "        <th id=\"T_d5f74c78_5b23_11e9_aaed_f362e337f814level0_row1\" class=\"row_heading level0 row1\" >24</th> \n",
       "        <td id=\"T_d5f74c78_5b23_11e9_aaed_f362e337f814row1_col0\" class=\"data row1 col0\" >12461</td> \n",
       "        <td id=\"T_d5f74c78_5b23_11e9_aaed_f362e337f814row1_col1\" class=\"data row1 col1\" >12453</td> \n",
       "        <td id=\"T_d5f74c78_5b23_11e9_aaed_f362e337f814row1_col2\" class=\"data row1 col2\" >-0.064%</td> \n",
       "    </tr>    <tr> \n",
       "        <th id=\"T_d5f74c78_5b23_11e9_aaed_f362e337f814level0_row2\" class=\"row_heading level0 row2\" >28</th> \n",
       "        <td id=\"T_d5f74c78_5b23_11e9_aaed_f362e337f814row2_col0\" class=\"data row2 col0\" >11188</td> \n",
       "        <td id=\"T_d5f74c78_5b23_11e9_aaed_f362e337f814row2_col1\" class=\"data row2 col1\" >11728</td> \n",
       "        <td id=\"T_d5f74c78_5b23_11e9_aaed_f362e337f814row2_col2\" class=\"data row2 col2\" >4.8%</td> \n",
       "    </tr>    <tr> \n",
       "        <th id=\"T_d5f74c78_5b23_11e9_aaed_f362e337f814level0_row3\" class=\"row_heading level0 row3\" >27</th> \n",
       "        <td id=\"T_d5f74c78_5b23_11e9_aaed_f362e337f814row3_col0\" class=\"data row3 col0\" >9927</td> \n",
       "        <td id=\"T_d5f74c78_5b23_11e9_aaed_f362e337f814row3_col1\" class=\"data row3 col1\" >11032</td> \n",
       "        <td id=\"T_d5f74c78_5b23_11e9_aaed_f362e337f814row3_col2\" class=\"data row3 col2\" >1.1e+01%</td> \n",
       "    </tr>    <tr> \n",
       "        <th id=\"T_d5f74c78_5b23_11e9_aaed_f362e337f814level0_row4\" class=\"row_heading level0 row4\" >2</th> \n",
       "        <td id=\"T_d5f74c78_5b23_11e9_aaed_f362e337f814row4_col0\" class=\"data row4 col0\" >11349</td> \n",
       "        <td id=\"T_d5f74c78_5b23_11e9_aaed_f362e337f814row4_col1\" class=\"data row4 col1\" >9994</td> \n",
       "        <td id=\"T_d5f74c78_5b23_11e9_aaed_f362e337f814row4_col2\" class=\"data row4 col2\" >-1.2e+01%</td> \n",
       "    </tr>    <tr> \n",
       "        <th id=\"T_d5f74c78_5b23_11e9_aaed_f362e337f814level0_row5\" class=\"row_heading level0 row5\" >17</th> \n",
       "        <td id=\"T_d5f74c78_5b23_11e9_aaed_f362e337f814row5_col0\" class=\"data row5 col0\" >8665</td> \n",
       "        <td id=\"T_d5f74c78_5b23_11e9_aaed_f362e337f814row5_col1\" class=\"data row5 col1\" >8802</td> \n",
       "        <td id=\"T_d5f74c78_5b23_11e9_aaed_f362e337f814row5_col2\" class=\"data row5 col2\" >1.6%</td> \n",
       "    </tr>    <tr> \n",
       "        <th id=\"T_d5f74c78_5b23_11e9_aaed_f362e337f814level0_row6\" class=\"row_heading level0 row6\" >6</th> \n",
       "        <td id=\"T_d5f74c78_5b23_11e9_aaed_f362e337f814row6_col0\" class=\"data row6 col0\" >8494</td> \n",
       "        <td id=\"T_d5f74c78_5b23_11e9_aaed_f362e337f814row6_col1\" class=\"data row6 col1\" >8734</td> \n",
       "        <td id=\"T_d5f74c78_5b23_11e9_aaed_f362e337f814row6_col2\" class=\"data row6 col2\" >2.8%</td> \n",
       "    </tr>    <tr> \n",
       "        <th id=\"T_d5f74c78_5b23_11e9_aaed_f362e337f814level0_row7\" class=\"row_heading level0 row7\" >21</th> \n",
       "        <td id=\"T_d5f74c78_5b23_11e9_aaed_f362e337f814row7_col0\" class=\"data row7 col0\" >7965</td> \n",
       "        <td id=\"T_d5f74c78_5b23_11e9_aaed_f362e337f814row7_col1\" class=\"data row7 col1\" >8120</td> \n",
       "        <td id=\"T_d5f74c78_5b23_11e9_aaed_f362e337f814row7_col2\" class=\"data row7 col2\" >1.9%</td> \n",
       "    </tr>    <tr> \n",
       "        <th id=\"T_d5f74c78_5b23_11e9_aaed_f362e337f814level0_row8\" class=\"row_heading level0 row8\" >20</th> \n",
       "        <td id=\"T_d5f74c78_5b23_11e9_aaed_f362e337f814row8_col0\" class=\"data row8 col0\" >7660</td> \n",
       "        <td id=\"T_d5f74c78_5b23_11e9_aaed_f362e337f814row8_col1\" class=\"data row8 col1\" >7452</td> \n",
       "        <td id=\"T_d5f74c78_5b23_11e9_aaed_f362e337f814row8_col2\" class=\"data row8 col2\" >-2.7%</td> \n",
       "    </tr>    <tr> \n",
       "        <th id=\"T_d5f74c78_5b23_11e9_aaed_f362e337f814level0_row9\" class=\"row_heading level0 row9\" >9</th> \n",
       "        <td id=\"T_d5f74c78_5b23_11e9_aaed_f362e337f814row9_col0\" class=\"data row9 col0\" >6897</td> \n",
       "        <td id=\"T_d5f74c78_5b23_11e9_aaed_f362e337f814row9_col1\" class=\"data row9 col1\" >7235</td> \n",
       "        <td id=\"T_d5f74c78_5b23_11e9_aaed_f362e337f814row9_col2\" class=\"data row9 col2\" >4.9%</td> \n",
       "    </tr>    <tr> \n",
       "        <th id=\"T_d5f74c78_5b23_11e9_aaed_f362e337f814level0_row10\" class=\"row_heading level0 row10\" >8</th> \n",
       "        <td id=\"T_d5f74c78_5b23_11e9_aaed_f362e337f814row10_col0\" class=\"data row10 col0\" >6948</td> \n",
       "        <td id=\"T_d5f74c78_5b23_11e9_aaed_f362e337f814row10_col1\" class=\"data row10 col1\" >7008</td> \n",
       "        <td id=\"T_d5f74c78_5b23_11e9_aaed_f362e337f814row10_col2\" class=\"data row10 col2\" >0.86%</td> \n",
       "    </tr>    <tr> \n",
       "        <th id=\"T_d5f74c78_5b23_11e9_aaed_f362e337f814level0_row11\" class=\"row_heading level0 row11\" >7</th> \n",
       "        <td id=\"T_d5f74c78_5b23_11e9_aaed_f362e337f814row11_col0\" class=\"data row11 col0\" >6776</td> \n",
       "        <td id=\"T_d5f74c78_5b23_11e9_aaed_f362e337f814row11_col1\" class=\"data row11 col1\" >6863</td> \n",
       "        <td id=\"T_d5f74c78_5b23_11e9_aaed_f362e337f814row11_col2\" class=\"data row11 col2\" >1.3%</td> \n",
       "    </tr>    <tr> \n",
       "        <th id=\"T_d5f74c78_5b23_11e9_aaed_f362e337f814level0_row12\" class=\"row_heading level0 row12\" >3</th> \n",
       "        <td id=\"T_d5f74c78_5b23_11e9_aaed_f362e337f814row12_col0\" class=\"data row12 col0\" >6956</td> \n",
       "        <td id=\"T_d5f74c78_5b23_11e9_aaed_f362e337f814row12_col1\" class=\"data row12 col1\" >6862</td> \n",
       "        <td id=\"T_d5f74c78_5b23_11e9_aaed_f362e337f814row12_col2\" class=\"data row12 col2\" >-1.4%</td> \n",
       "    </tr>    <tr> \n",
       "        <th id=\"T_d5f74c78_5b23_11e9_aaed_f362e337f814level0_row13\" class=\"row_heading level0 row13\" >34</th> \n",
       "        <td id=\"T_d5f74c78_5b23_11e9_aaed_f362e337f814row13_col0\" class=\"data row13 col0\" >6800</td> \n",
       "        <td id=\"T_d5f74c78_5b23_11e9_aaed_f362e337f814row13_col1\" class=\"data row13 col1\" >6827</td> \n",
       "        <td id=\"T_d5f74c78_5b23_11e9_aaed_f362e337f814row13_col2\" class=\"data row13 col2\" >0.4%</td> \n",
       "    </tr>    <tr> \n",
       "        <th id=\"T_d5f74c78_5b23_11e9_aaed_f362e337f814level0_row14\" class=\"row_heading level0 row14\" >16</th> \n",
       "        <td id=\"T_d5f74c78_5b23_11e9_aaed_f362e337f814row14_col0\" class=\"data row14 col0\" >6380</td> \n",
       "        <td id=\"T_d5f74c78_5b23_11e9_aaed_f362e337f814row14_col1\" class=\"data row14 col1\" >6684</td> \n",
       "        <td id=\"T_d5f74c78_5b23_11e9_aaed_f362e337f814row14_col2\" class=\"data row14 col2\" >4.8%</td> \n",
       "    </tr>    <tr> \n",
       "        <th id=\"T_d5f74c78_5b23_11e9_aaed_f362e337f814level0_row15\" class=\"row_heading level0 row15\" >37</th> \n",
       "        <td id=\"T_d5f74c78_5b23_11e9_aaed_f362e337f814row15_col0\" class=\"data row15 col0\" >6325</td> \n",
       "        <td id=\"T_d5f74c78_5b23_11e9_aaed_f362e337f814row15_col1\" class=\"data row15 col1\" >6678</td> \n",
       "        <td id=\"T_d5f74c78_5b23_11e9_aaed_f362e337f814row15_col2\" class=\"data row15 col2\" >5.6%</td> \n",
       "    </tr>    <tr> \n",
       "        <th id=\"T_d5f74c78_5b23_11e9_aaed_f362e337f814level0_row16\" class=\"row_heading level0 row16\" >5</th> \n",
       "        <td id=\"T_d5f74c78_5b23_11e9_aaed_f362e337f814row16_col0\" class=\"data row16 col0\" >6121</td> \n",
       "        <td id=\"T_d5f74c78_5b23_11e9_aaed_f362e337f814row16_col1\" class=\"data row16 col1\" >6243</td> \n",
       "        <td id=\"T_d5f74c78_5b23_11e9_aaed_f362e337f814row16_col2\" class=\"data row16 col2\" >2.0%</td> \n",
       "    </tr>    <tr> \n",
       "        <th id=\"T_d5f74c78_5b23_11e9_aaed_f362e337f814level0_row17\" class=\"row_heading level0 row17\" >15</th> \n",
       "        <td id=\"T_d5f74c78_5b23_11e9_aaed_f362e337f814row17_col0\" class=\"data row17 col0\" >6190</td> \n",
       "        <td id=\"T_d5f74c78_5b23_11e9_aaed_f362e337f814row17_col1\" class=\"data row17 col1\" >5702</td> \n",
       "        <td id=\"T_d5f74c78_5b23_11e9_aaed_f362e337f814row17_col2\" class=\"data row17 col2\" >-7.9%</td> \n",
       "    </tr>    <tr> \n",
       "        <th id=\"T_d5f74c78_5b23_11e9_aaed_f362e337f814level0_row18\" class=\"row_heading level0 row18\" >29</th> \n",
       "        <td id=\"T_d5f74c78_5b23_11e9_aaed_f362e337f814row18_col0\" class=\"data row18 col0\" >5617</td> \n",
       "        <td id=\"T_d5f74c78_5b23_11e9_aaed_f362e337f814row18_col1\" class=\"data row18 col1\" >5601</td> \n",
       "        <td id=\"T_d5f74c78_5b23_11e9_aaed_f362e337f814row18_col2\" class=\"data row18 col2\" >-0.28%</td> \n",
       "    </tr>    <tr> \n",
       "        <th id=\"T_d5f74c78_5b23_11e9_aaed_f362e337f814level0_row19\" class=\"row_heading level0 row19\" >4</th> \n",
       "        <td id=\"T_d5f74c78_5b23_11e9_aaed_f362e337f814row19_col0\" class=\"data row19 col0\" >5052</td> \n",
       "        <td id=\"T_d5f74c78_5b23_11e9_aaed_f362e337f814row19_col1\" class=\"data row19 col1\" >5396</td> \n",
       "        <td id=\"T_d5f74c78_5b23_11e9_aaed_f362e337f814row19_col2\" class=\"data row19 col2\" >6.8%</td> \n",
       "    </tr>    <tr> \n",
       "        <th id=\"T_d5f74c78_5b23_11e9_aaed_f362e337f814level0_row20\" class=\"row_heading level0 row20\" >1</th> \n",
       "        <td id=\"T_d5f74c78_5b23_11e9_aaed_f362e337f814row20_col0\" class=\"data row20 col0\" >5298</td> \n",
       "        <td id=\"T_d5f74c78_5b23_11e9_aaed_f362e337f814row20_col1\" class=\"data row20 col1\" >4717</td> \n",
       "        <td id=\"T_d5f74c78_5b23_11e9_aaed_f362e337f814row20_col2\" class=\"data row20 col2\" >-1.1e+01%</td> \n",
       "    </tr>    <tr> \n",
       "        <th id=\"T_d5f74c78_5b23_11e9_aaed_f362e337f814level0_row21\" class=\"row_heading level0 row21\" >43</th> \n",
       "        <td id=\"T_d5f74c78_5b23_11e9_aaed_f362e337f814row21_col0\" class=\"data row21 col0\" >3954</td> \n",
       "        <td id=\"T_d5f74c78_5b23_11e9_aaed_f362e337f814row21_col1\" class=\"data row21 col1\" >4242</td> \n",
       "        <td id=\"T_d5f74c78_5b23_11e9_aaed_f362e337f814row21_col2\" class=\"data row21 col2\" >7.3%</td> \n",
       "    </tr>    <tr> \n",
       "        <th id=\"T_d5f74c78_5b23_11e9_aaed_f362e337f814level0_row22\" class=\"row_heading level0 row22\" >44</th> \n",
       "        <td id=\"T_d5f74c78_5b23_11e9_aaed_f362e337f814row22_col0\" class=\"data row22 col0\" >3924</td> \n",
       "        <td id=\"T_d5f74c78_5b23_11e9_aaed_f362e337f814row22_col1\" class=\"data row22 col1\" >4188</td> \n",
       "        <td id=\"T_d5f74c78_5b23_11e9_aaed_f362e337f814row22_col2\" class=\"data row22 col2\" >6.7%</td> \n",
       "    </tr>    <tr> \n",
       "        <th id=\"T_d5f74c78_5b23_11e9_aaed_f362e337f814level0_row23\" class=\"row_heading level0 row23\" >32</th> \n",
       "        <td id=\"T_d5f74c78_5b23_11e9_aaed_f362e337f814row23_col0\" class=\"data row23 col0\" >4708</td> \n",
       "        <td id=\"T_d5f74c78_5b23_11e9_aaed_f362e337f814row23_col1\" class=\"data row23 col1\" >4106</td> \n",
       "        <td id=\"T_d5f74c78_5b23_11e9_aaed_f362e337f814row23_col2\" class=\"data row23 col2\" >-1.3e+01%</td> \n",
       "    </tr>    <tr> \n",
       "        <th id=\"T_d5f74c78_5b23_11e9_aaed_f362e337f814level0_row24\" class=\"row_heading level0 row24\" >18</th> \n",
       "        <td id=\"T_d5f74c78_5b23_11e9_aaed_f362e337f814row24_col0\" class=\"data row24 col0\" >4420</td> \n",
       "        <td id=\"T_d5f74c78_5b23_11e9_aaed_f362e337f814row24_col1\" class=\"data row24 col1\" >4098</td> \n",
       "        <td id=\"T_d5f74c78_5b23_11e9_aaed_f362e337f814row24_col2\" class=\"data row24 col2\" >-7.3%</td> \n",
       "    </tr>    <tr> \n",
       "        <th id=\"T_d5f74c78_5b23_11e9_aaed_f362e337f814level0_row25\" class=\"row_heading level0 row25\" >10</th> \n",
       "        <td id=\"T_d5f74c78_5b23_11e9_aaed_f362e337f814row25_col0\" class=\"data row25 col0\" >4364</td> \n",
       "        <td id=\"T_d5f74c78_5b23_11e9_aaed_f362e337f814row25_col1\" class=\"data row25 col1\" >4051</td> \n",
       "        <td id=\"T_d5f74c78_5b23_11e9_aaed_f362e337f814row25_col2\" class=\"data row25 col2\" >-7.2%</td> \n",
       "    </tr>    <tr> \n",
       "        <th id=\"T_d5f74c78_5b23_11e9_aaed_f362e337f814level0_row26\" class=\"row_heading level0 row26\" >25</th> \n",
       "        <td id=\"T_d5f74c78_5b23_11e9_aaed_f362e337f814row26_col0\" class=\"data row26 col0\" >3828</td> \n",
       "        <td id=\"T_d5f74c78_5b23_11e9_aaed_f362e337f814row26_col1\" class=\"data row26 col1\" >3770</td> \n",
       "        <td id=\"T_d5f74c78_5b23_11e9_aaed_f362e337f814row26_col2\" class=\"data row26 col2\" >-1.5%</td> \n",
       "    </tr>    <tr> \n",
       "        <th id=\"T_d5f74c78_5b23_11e9_aaed_f362e337f814level0_row27\" class=\"row_heading level0 row27\" >49</th> \n",
       "        <td id=\"T_d5f74c78_5b23_11e9_aaed_f362e337f814row27_col0\" class=\"data row27 col0\" >3816</td> \n",
       "        <td id=\"T_d5f74c78_5b23_11e9_aaed_f362e337f814row27_col1\" class=\"data row27 col1\" >3576</td> \n",
       "        <td id=\"T_d5f74c78_5b23_11e9_aaed_f362e337f814row27_col2\" class=\"data row27 col2\" >-6.3%</td> \n",
       "    </tr>    <tr> \n",
       "        <th id=\"T_d5f74c78_5b23_11e9_aaed_f362e337f814level0_row28\" class=\"row_heading level0 row28\" >26</th> \n",
       "        <td id=\"T_d5f74c78_5b23_11e9_aaed_f362e337f814row28_col0\" class=\"data row28 col0\" >3776</td> \n",
       "        <td id=\"T_d5f74c78_5b23_11e9_aaed_f362e337f814row28_col1\" class=\"data row28 col1\" >3510</td> \n",
       "        <td id=\"T_d5f74c78_5b23_11e9_aaed_f362e337f814row28_col2\" class=\"data row28 col2\" >-7.0%</td> \n",
       "    </tr>    <tr> \n",
       "        <th id=\"T_d5f74c78_5b23_11e9_aaed_f362e337f814level0_row29\" class=\"row_heading level0 row29\" >22</th> \n",
       "        <td id=\"T_d5f74c78_5b23_11e9_aaed_f362e337f814row29_col0\" class=\"data row29 col0\" >3017</td> \n",
       "        <td id=\"T_d5f74c78_5b23_11e9_aaed_f362e337f814row29_col1\" class=\"data row29 col1\" >3298</td> \n",
       "        <td id=\"T_d5f74c78_5b23_11e9_aaed_f362e337f814row29_col2\" class=\"data row29 col2\" >9.3%</td> \n",
       "    </tr>    <tr> \n",
       "        <th id=\"T_d5f74c78_5b23_11e9_aaed_f362e337f814level0_row30\" class=\"row_heading level0 row30\" >46</th> \n",
       "        <td id=\"T_d5f74c78_5b23_11e9_aaed_f362e337f814row30_col0\" class=\"data row30 col0\" >3436</td> \n",
       "        <td id=\"T_d5f74c78_5b23_11e9_aaed_f362e337f814row30_col1\" class=\"data row30 col1\" >3220</td> \n",
       "        <td id=\"T_d5f74c78_5b23_11e9_aaed_f362e337f814row30_col2\" class=\"data row30 col2\" >-6.3%</td> \n",
       "    </tr>    <tr> \n",
       "        <th id=\"T_d5f74c78_5b23_11e9_aaed_f362e337f814level0_row31\" class=\"row_heading level0 row31\" >11</th> \n",
       "        <td id=\"T_d5f74c78_5b23_11e9_aaed_f362e337f814row31_col0\" class=\"data row31 col0\" >3307</td> \n",
       "        <td id=\"T_d5f74c78_5b23_11e9_aaed_f362e337f814row31_col1\" class=\"data row31 col1\" >3175</td> \n",
       "        <td id=\"T_d5f74c78_5b23_11e9_aaed_f362e337f814row31_col2\" class=\"data row31 col2\" >-4.0%</td> \n",
       "    </tr>    <tr> \n",
       "        <th id=\"T_d5f74c78_5b23_11e9_aaed_f362e337f814level0_row32\" class=\"row_heading level0 row32\" >35</th> \n",
       "        <td id=\"T_d5f74c78_5b23_11e9_aaed_f362e337f814row32_col0\" class=\"data row32 col0\" >3253</td> \n",
       "        <td id=\"T_d5f74c78_5b23_11e9_aaed_f362e337f814row32_col1\" class=\"data row32 col1\" >3165</td> \n",
       "        <td id=\"T_d5f74c78_5b23_11e9_aaed_f362e337f814row32_col2\" class=\"data row32 col2\" >-2.7%</td> \n",
       "    </tr>    <tr> \n",
       "        <th id=\"T_d5f74c78_5b23_11e9_aaed_f362e337f814level0_row33\" class=\"row_heading level0 row33\" >23</th> \n",
       "        <td id=\"T_d5f74c78_5b23_11e9_aaed_f362e337f814row33_col0\" class=\"data row33 col0\" >3064</td> \n",
       "        <td id=\"T_d5f74c78_5b23_11e9_aaed_f362e337f814row33_col1\" class=\"data row33 col1\" >3122</td> \n",
       "        <td id=\"T_d5f74c78_5b23_11e9_aaed_f362e337f814row33_col2\" class=\"data row33 col2\" >1.9%</td> \n",
       "    </tr>    <tr> \n",
       "        <th id=\"T_d5f74c78_5b23_11e9_aaed_f362e337f814level0_row34\" class=\"row_heading level0 row34\" >31</th> \n",
       "        <td id=\"T_d5f74c78_5b23_11e9_aaed_f362e337f814row34_col0\" class=\"data row34 col0\" >3517</td> \n",
       "        <td id=\"T_d5f74c78_5b23_11e9_aaed_f362e337f814row34_col1\" class=\"data row34 col1\" >3090</td> \n",
       "        <td id=\"T_d5f74c78_5b23_11e9_aaed_f362e337f814row34_col2\" class=\"data row34 col2\" >-1.2e+01%</td> \n",
       "    </tr>    <tr> \n",
       "        <th id=\"T_d5f74c78_5b23_11e9_aaed_f362e337f814level0_row35\" class=\"row_heading level0 row35\" >12</th> \n",
       "        <td id=\"T_d5f74c78_5b23_11e9_aaed_f362e337f814row35_col0\" class=\"data row35 col0\" >3133</td> \n",
       "        <td id=\"T_d5f74c78_5b23_11e9_aaed_f362e337f814row35_col1\" class=\"data row35 col1\" >3083</td> \n",
       "        <td id=\"T_d5f74c78_5b23_11e9_aaed_f362e337f814row35_col2\" class=\"data row35 col2\" >-1.6%</td> \n",
       "    </tr>    <tr> \n",
       "        <th id=\"T_d5f74c78_5b23_11e9_aaed_f362e337f814level0_row36\" class=\"row_heading level0 row36\" >14</th> \n",
       "        <td id=\"T_d5f74c78_5b23_11e9_aaed_f362e337f814row36_col0\" class=\"data row36 col0\" >3238</td> \n",
       "        <td id=\"T_d5f74c78_5b23_11e9_aaed_f362e337f814row36_col1\" class=\"data row36 col1\" >3047</td> \n",
       "        <td id=\"T_d5f74c78_5b23_11e9_aaed_f362e337f814row36_col2\" class=\"data row36 col2\" >-5.9%</td> \n",
       "    </tr>    <tr> \n",
       "        <th id=\"T_d5f74c78_5b23_11e9_aaed_f362e337f814level0_row37\" class=\"row_heading level0 row37\" >30</th> \n",
       "        <td id=\"T_d5f74c78_5b23_11e9_aaed_f362e337f814row37_col0\" class=\"data row37 col0\" >3432</td> \n",
       "        <td id=\"T_d5f74c78_5b23_11e9_aaed_f362e337f814row37_col1\" class=\"data row37 col1\" >2981</td> \n",
       "        <td id=\"T_d5f74c78_5b23_11e9_aaed_f362e337f814row37_col2\" class=\"data row37 col2\" >-1.3e+01%</td> \n",
       "    </tr>    <tr> \n",
       "        <th id=\"T_d5f74c78_5b23_11e9_aaed_f362e337f814level0_row38\" class=\"row_heading level0 row38\" >13</th> \n",
       "        <td id=\"T_d5f74c78_5b23_11e9_aaed_f362e337f814row38_col0\" class=\"data row38 col0\" >3175</td> \n",
       "        <td id=\"T_d5f74c78_5b23_11e9_aaed_f362e337f814row38_col1\" class=\"data row38 col1\" >2906</td> \n",
       "        <td id=\"T_d5f74c78_5b23_11e9_aaed_f362e337f814row38_col2\" class=\"data row38 col2\" >-8.5%</td> \n",
       "    </tr>    <tr> \n",
       "        <th id=\"T_d5f74c78_5b23_11e9_aaed_f362e337f814level0_row39\" class=\"row_heading level0 row39\" >40</th> \n",
       "        <td id=\"T_d5f74c78_5b23_11e9_aaed_f362e337f814row39_col0\" class=\"data row39 col0\" >2784</td> \n",
       "        <td id=\"T_d5f74c78_5b23_11e9_aaed_f362e337f814row39_col1\" class=\"data row39 col1\" >2905</td> \n",
       "        <td id=\"T_d5f74c78_5b23_11e9_aaed_f362e337f814row39_col2\" class=\"data row39 col2\" >4.3%</td> \n",
       "    </tr>    <tr> \n",
       "        <th id=\"T_d5f74c78_5b23_11e9_aaed_f362e337f814level0_row40\" class=\"row_heading level0 row40\" >41</th> \n",
       "        <td id=\"T_d5f74c78_5b23_11e9_aaed_f362e337f814row40_col0\" class=\"data row40 col0\" >2905</td> \n",
       "        <td id=\"T_d5f74c78_5b23_11e9_aaed_f362e337f814row40_col1\" class=\"data row40 col1\" >2849</td> \n",
       "        <td id=\"T_d5f74c78_5b23_11e9_aaed_f362e337f814row40_col2\" class=\"data row40 col2\" >-1.9%</td> \n",
       "    </tr>    <tr> \n",
       "        <th id=\"T_d5f74c78_5b23_11e9_aaed_f362e337f814level0_row41\" class=\"row_heading level0 row41\" >50</th> \n",
       "        <td id=\"T_d5f74c78_5b23_11e9_aaed_f362e337f814row41_col0\" class=\"data row41 col0\" >2908</td> \n",
       "        <td id=\"T_d5f74c78_5b23_11e9_aaed_f362e337f814row41_col1\" class=\"data row41 col1\" >2773</td> \n",
       "        <td id=\"T_d5f74c78_5b23_11e9_aaed_f362e337f814row41_col2\" class=\"data row41 col2\" >-4.6%</td> \n",
       "    </tr>    <tr> \n",
       "        <th id=\"T_d5f74c78_5b23_11e9_aaed_f362e337f814level0_row42\" class=\"row_heading level0 row42\" >48</th> \n",
       "        <td id=\"T_d5f74c78_5b23_11e9_aaed_f362e337f814row42_col0\" class=\"data row42 col0\" >2514</td> \n",
       "        <td id=\"T_d5f74c78_5b23_11e9_aaed_f362e337f814row42_col1\" class=\"data row42 col1\" >2738</td> \n",
       "        <td id=\"T_d5f74c78_5b23_11e9_aaed_f362e337f814row42_col2\" class=\"data row42 col2\" >8.9%</td> \n",
       "    </tr>    <tr> \n",
       "        <th id=\"T_d5f74c78_5b23_11e9_aaed_f362e337f814level0_row43\" class=\"row_heading level0 row43\" >45</th> \n",
       "        <td id=\"T_d5f74c78_5b23_11e9_aaed_f362e337f814row43_col0\" class=\"data row43 col0\" >2745</td> \n",
       "        <td id=\"T_d5f74c78_5b23_11e9_aaed_f362e337f814row43_col1\" class=\"data row43 col1\" >2732</td> \n",
       "        <td id=\"T_d5f74c78_5b23_11e9_aaed_f362e337f814row43_col2\" class=\"data row43 col2\" >-0.47%</td> \n",
       "    </tr>    <tr> \n",
       "        <th id=\"T_d5f74c78_5b23_11e9_aaed_f362e337f814level0_row44\" class=\"row_heading level0 row44\" >36</th> \n",
       "        <td id=\"T_d5f74c78_5b23_11e9_aaed_f362e337f814row44_col0\" class=\"data row44 col0\" >2641</td> \n",
       "        <td id=\"T_d5f74c78_5b23_11e9_aaed_f362e337f814row44_col1\" class=\"data row44 col1\" >2621</td> \n",
       "        <td id=\"T_d5f74c78_5b23_11e9_aaed_f362e337f814row44_col2\" class=\"data row44 col2\" >-0.76%</td> \n",
       "    </tr>    <tr> \n",
       "        <th id=\"T_d5f74c78_5b23_11e9_aaed_f362e337f814level0_row45\" class=\"row_heading level0 row45\" >47</th> \n",
       "        <td id=\"T_d5f74c78_5b23_11e9_aaed_f362e337f814row45_col0\" class=\"data row45 col0\" >2748</td> \n",
       "        <td id=\"T_d5f74c78_5b23_11e9_aaed_f362e337f814row45_col1\" class=\"data row45 col1\" >2593</td> \n",
       "        <td id=\"T_d5f74c78_5b23_11e9_aaed_f362e337f814row45_col2\" class=\"data row45 col2\" >-5.6%</td> \n",
       "    </tr>    <tr> \n",
       "        <th id=\"T_d5f74c78_5b23_11e9_aaed_f362e337f814level0_row46\" class=\"row_heading level0 row46\" >33</th> \n",
       "        <td id=\"T_d5f74c78_5b23_11e9_aaed_f362e337f814row46_col0\" class=\"data row46 col0\" >2577</td> \n",
       "        <td id=\"T_d5f74c78_5b23_11e9_aaed_f362e337f814row46_col1\" class=\"data row46 col1\" >2579</td> \n",
       "        <td id=\"T_d5f74c78_5b23_11e9_aaed_f362e337f814row46_col2\" class=\"data row46 col2\" >0.078%</td> \n",
       "    </tr>    <tr> \n",
       "        <th id=\"T_d5f74c78_5b23_11e9_aaed_f362e337f814level0_row47\" class=\"row_heading level0 row47\" >38</th> \n",
       "        <td id=\"T_d5f74c78_5b23_11e9_aaed_f362e337f814row47_col0\" class=\"data row47 col0\" >2710</td> \n",
       "        <td id=\"T_d5f74c78_5b23_11e9_aaed_f362e337f814row47_col1\" class=\"data row47 col1\" >2564</td> \n",
       "        <td id=\"T_d5f74c78_5b23_11e9_aaed_f362e337f814row47_col2\" class=\"data row47 col2\" >-5.4%</td> \n",
       "    </tr>    <tr> \n",
       "        <th id=\"T_d5f74c78_5b23_11e9_aaed_f362e337f814level0_row48\" class=\"row_heading level0 row48\" >39</th> \n",
       "        <td id=\"T_d5f74c78_5b23_11e9_aaed_f362e337f814row48_col0\" class=\"data row48 col0\" >2643</td> \n",
       "        <td id=\"T_d5f74c78_5b23_11e9_aaed_f362e337f814row48_col1\" class=\"data row48 col1\" >2456</td> \n",
       "        <td id=\"T_d5f74c78_5b23_11e9_aaed_f362e337f814row48_col2\" class=\"data row48 col2\" >-7.1%</td> \n",
       "    </tr>    <tr> \n",
       "        <th id=\"T_d5f74c78_5b23_11e9_aaed_f362e337f814level0_row49\" class=\"row_heading level0 row49\" >19</th> \n",
       "        <td id=\"T_d5f74c78_5b23_11e9_aaed_f362e337f814row49_col0\" class=\"data row49 col0\" >2225</td> \n",
       "        <td id=\"T_d5f74c78_5b23_11e9_aaed_f362e337f814row49_col1\" class=\"data row49 col1\" >2177</td> \n",
       "        <td id=\"T_d5f74c78_5b23_11e9_aaed_f362e337f814row49_col2\" class=\"data row49 col2\" >-2.2%</td> \n",
       "    </tr>    <tr> \n",
       "        <th id=\"T_d5f74c78_5b23_11e9_aaed_f362e337f814level0_row50\" class=\"row_heading level0 row50\" >0</th> \n",
       "        <td id=\"T_d5f74c78_5b23_11e9_aaed_f362e337f814row50_col0\" class=\"data row50 col0\" >1</td> \n",
       "        <td id=\"T_d5f74c78_5b23_11e9_aaed_f362e337f814row50_col1\" class=\"data row50 col1\" >3</td> \n",
       "        <td id=\"T_d5f74c78_5b23_11e9_aaed_f362e337f814row50_col2\" class=\"data row50 col2\" >2e+02%</td> \n",
       "    </tr></tbody> \n",
       "</table> "
      ],
      "text/plain": [
       "<pandas.io.formats.style.Styler at 0x1cc1da4e6d8>"
      ]
     },
     "execution_count": 25,
     "metadata": {},
     "output_type": "execute_result"
    }
   ],
   "source": [
    "ward_crimes = full_data.groupby(['year', 'ward']).size().sort_values().reset_index()\n",
    "ward_crimes.rename(columns={0:'Count','year':'Year','ward':'Ward'}, inplace=True)\n",
    "ward_crimes_pivot = ward_crimes.pivot(index='Ward', columns='Year', values='Count')\n",
    "ward_crimes_pivot.sort_values(2018, ascending=False, inplace=True)\n",
    "ward_crimes_pivot['Change'] = (ward_crimes_pivot[2018]-ward_crimes_pivot[2017])/ward_crimes_pivot[2017]\n",
    "ward_crimes_table = ward_crimes_pivot.style.format({'Change': lambda x: \"{:.2}%\".format(x*100)})\n",
    "ward_crimes_table"
   ]
  },
  {
   "cell_type": "markdown",
   "metadata": {},
   "source": [
    "#### Part 2\n",
    "To analyze the aldermanic candidate's claims, start by creating two subsetted datasets with month-to-date crime statistics for 7/26/17 and 7/26/18."
   ]
  },
  {
   "cell_type": "code",
   "execution_count": 26,
   "metadata": {},
   "outputs": [],
   "source": [
    "full_data['datetime'] = pd.to_datetime(full_data['date'])"
   ]
  },
  {
   "cell_type": "code",
   "execution_count": 27,
   "metadata": {},
   "outputs": [],
   "source": [
    "def subset_date(df, start_date, end_date):\n",
    "    '''\n",
    "    Subset the full crime dataset with start and end dates.\n",
    "    '''\n",
    "    mask = (df['datetime'] > start_date) & (df['datetime'] < end_date)\n",
    "    rv = df[mask]\n",
    "    return rv"
   ]
  },
  {
   "cell_type": "code",
   "execution_count": 28,
   "metadata": {},
   "outputs": [],
   "source": [
    "jul_2017 = subset_date(full_data, '07-01-2017', '07-26-2017')\n",
    "jul_2018 = subset_date(full_data, '07-01-2018', '07-26-2018')"
   ]
  },
  {
   "cell_type": "code",
   "execution_count": 29,
   "metadata": {},
   "outputs": [
    {
     "name": "stdout",
     "output_type": "stream",
     "text": [
      "Total crime reported rose by  1.25%  in the same 26-day period in July 2017 and 2018.\n"
     ]
    }
   ],
   "source": [
    "# How much did total crime rise in the 26-day period year-over-year?\n",
    "print(\"Total crime reported rose by \", \"{0:.2%}\".format((len(jul_2018)-len(jul_2017))/len(jul_2017)), \" in the same 26-day period in July 2017 and 2018.\")"
   ]
  },
  {
   "cell_type": "markdown",
   "metadata": {},
   "source": [
    "The candidate's claim that overal crime rose 16% in the same 26-day period (July 1-26) from 2017 to 2018 seems to be inflated. In fact, it appears that crime only rose 1.25% between those corresponding time periods."
   ]
  },
  {
   "cell_type": "code",
   "execution_count": 30,
   "metadata": {},
   "outputs": [],
   "source": [
    "def yearly_change(last_year, this_year, primary_type):\n",
    "    '''\n",
    "    last_year, this_year: pandas df's for the corresponding time period this year and the previous year\n",
    "    primary_type: type of crime (str)\n",
    "    returns: % change in year-over-year reporting\n",
    "    '''\n",
    "    number_last_year = len(last_year[last_year[\"primary_type\"]==primary_type])\n",
    "    number_this_year = len(this_year[this_year[\"primary_type\"]==primary_type])\n",
    "    return (number_this_year-number_last_year)/number_last_year "
   ]
  },
  {
   "cell_type": "code",
   "execution_count": 31,
   "metadata": {},
   "outputs": [],
   "source": [
    "robberies = yearly_change(jul_2017, jul_2018, \"THEFT\")\n",
    "aggravated_batteries = yearly_change(jul_2017, jul_2018, \"BATTERY\")\n",
    "burglary = yearly_change(jul_2017, jul_2018, \"BURGLARY\")\n",
    "motor_vehicle_theft = yearly_change(jul_2017, jul_2018, \"MOTOR VEHICLE THEFT\")"
   ]
  },
  {
   "cell_type": "code",
   "execution_count": 32,
   "metadata": {},
   "outputs": [
    {
     "name": "stdout",
     "output_type": "stream",
     "text": [
      "Candidate claims robberies went up 21%, actual change:  0.72%\n",
      "Candidate claims aggravated batteries went up 136%, actual change:  6.51%\n",
      "Candidate claims burglary went up 50%, actual change:  -6.15%\n",
      "Candidate claims motor vehicle theft went up 41%, actual change:  -13.42%\n"
     ]
    }
   ],
   "source": [
    "print(\"Candidate claims robberies went up 21%, actual change: \", \"{0:.2%}\".format(robberies))\n",
    "print(\"Candidate claims aggravated batteries went up 136%, actual change: \", \"{0:.2%}\".format(aggravated_batteries))\n",
    "print(\"Candidate claims burglary went up 50%, actual change: \", \"{0:.2%}\".format(burglary))\n",
    "print(\"Candidate claims motor vehicle theft went up 41%, actual change: \", \"{0:.2%}\".format(motor_vehicle_theft))"
   ]
  },
  {
   "cell_type": "markdown",
   "metadata": {},
   "source": [
    "The candidate's claims about the increase in reported crimes don't seem to hold up for the entire city of Chicago, even when reports are broken out by crime type. To be thorough, let's also check the stats in Ward 43, which is where this candidate was running for office."
   ]
  },
  {
   "cell_type": "code",
   "execution_count": 33,
   "metadata": {},
   "outputs": [],
   "source": [
    "jul_2017_43 = jul_2017[jul_2017['ward']=='43']\n",
    "jul_2018_43 = jul_2018[jul_2018['ward']=='43']\n",
    "robberies = yearly_change(jul_2017_43, jul_2018_43, \"THEFT\")\n",
    "aggravated_batteries = yearly_change(jul_2017_43, jul_2018_43, \"BATTERY\")\n",
    "burglary = yearly_change(jul_2017_43, jul_2018_43, \"BURGLARY\")\n",
    "motor_vehicle_theft = yearly_change(jul_2017_43, jul_2018_43, \"MOTOR VEHICLE THEFT\")"
   ]
  },
  {
   "cell_type": "code",
   "execution_count": 34,
   "metadata": {},
   "outputs": [
    {
     "name": "stdout",
     "output_type": "stream",
     "text": [
      "Candidate claims robberies went up 21%, actual change:  10.20%\n",
      "Candidate claims aggravated batteries went up 136%, actual change:  -20.00%\n",
      "Candidate claims burglary went up 50%, actual change:  -14.29%\n",
      "Candidate claims motor vehicle theft went up 41%, actual change:  100.00%\n"
     ]
    }
   ],
   "source": [
    "print(\"Candidate claims robberies went up 21%, actual change: \", \"{0:.2%}\".format(robberies))\n",
    "print(\"Candidate claims aggravated batteries went up 136%, actual change: \", \"{0:.2%}\".format(aggravated_batteries))\n",
    "print(\"Candidate claims burglary went up 50%, actual change: \", \"{0:.2%}\".format(burglary))\n",
    "print(\"Candidate claims motor vehicle theft went up 41%, actual change: \", \"{0:.2%}\".format(motor_vehicle_theft))"
   ]
  },
  {
   "cell_type": "markdown",
   "metadata": {},
   "source": [
    "Examining the numbers for the 43rd Ward only paint a slightly more nuanced picture. In some cases he overestimates and in other cases he underestimates the change, and even gets the direction of the change wrong in two cases (aggravated batteries and burglary). It's not clear how he calculated these statistics, though it is possible his team performed some overly selective calculations that failed to capture the bigger picture. Generally, the changes in crime are much more a mixed bag than he attempts to portray and I would argue that his uniformly negative picture is misleading.\n",
    "\n",
    "The figure below shows a monthly heat map of incidence of crimes for the years 2017-2018. There is some mild seasonality, whereby crimes (especially the most common types like Battery, Criminal Damage, and Theft) appear to occur more often during the summer months. Clearly it's important to make comparisons between the same times of year to account for any seasonality effects."
   ]
  },
  {
   "cell_type": "code",
   "execution_count": 35,
   "metadata": {},
   "outputs": [],
   "source": [
    "full_data['month'] = full_data['datetime'].apply(lambda x: x.month)"
   ]
  },
  {
   "cell_type": "code",
   "execution_count": 36,
   "metadata": {},
   "outputs": [
    {
     "data": {
      "image/png": "[encoded data removed]",
      "text/plain": [
       "<Figure size 432x288 with 2 Axes>"
      ]
     },
     "metadata": {
      "needs_background": "light"
     },
     "output_type": "display_data"
    }
   ],
   "source": [
    "heatmap_data = full_data.groupby(['month', 'primary_type']).size().reset_index()\n",
    "heatmap_data.rename(columns={0:'Count','primary_type':'Type','month':'Month'}, inplace=True)\n",
    "heatmap_data = heatmap_data.reset_index()\n",
    "heatmap_pivot = heatmap_data.pivot(index='Type', columns='Month', values='Count')\n",
    "seasonal = sns.heatmap(heatmap_pivot, cmap=\"YlGnBu\", linewidths=0.05)"
   ]
  },
  {
   "cell_type": "markdown",
   "metadata": {},
   "source": [
    "#### Part 3\n",
    "1. Examine the underlying causes of crime in highly impacted wards where crimes occur more frequently (especially Wards 42, 24, 28 and 27). Explore potential amelioration strategies like increased investment in mental health resources.\n",
    "2. Promote solutions like upgraded building alarms and more robust neighborhood watch organizations in wards that experienced particularly high rates of Theft (for example, Ward 2).\n",
    "3. Target resources for community economic development toward zip codes with lower median household incomes, as lower incomes appear to be associated with higher crime rates and especially violent crimes like homicide.\n",
    "4. Think about differential crime deterrents in public places across wards where crimes most commonly occur on the street (e.g. Wards 4, 11, 39, etc.) versus wards where crimes most commonly occur in residences (e.g. Wards 9, 23, 41, etc.). Look into crimes reported in Ward 42 to determine whether the large number of crimes reported in Restaurants is truly a policy issue of some kind or is some kind of quirk or error in the data.\n",
    "5. From the heatmap above, consider the differences between seasons that might cause spikes in crime during the summer month. Devote more resources to crisis intervention, neighborhood watch, and other community policing solutions during these high-risk months.\n",
    "\n",
    "#### Part 4\n",
    "These analyses and recommendations are based exclusively on summary and descriptive statistics, so they only capture correlations between different variables and basic trends over time. They do not purport to explain the causes of various phenomena described, and therefore recommendations are more general and less tailored than if a more robust statistical method than simple correlation and description were used to generate results."
   ]
  },
  {
   "cell_type": "markdown",
   "metadata": {},
   "source": [
    "### Question 4\n",
    "#### Part A\n",
    "First, identify blocks on S Michigan Ave. From the exploration detailed below, there do not appear to be any observations from the 020XX S Michigan Ave block."
   ]
  },
  {
   "cell_type": "code",
   "execution_count": 37,
   "metadata": {},
   "outputs": [],
   "source": [
    "michigan = full_data[full_data['block'].str.contains('S Michigan')]"
   ]
  },
  {
   "cell_type": "code",
   "execution_count": 38,
   "metadata": {},
   "outputs": [
    {
     "name": "stdout",
     "output_type": "stream",
     "text": [
      "15139     010XX S Michigan Ave\n",
      "156398    121XX S Michigan Ave\n",
      "170006    0000X S Michigan Ave\n",
      "175532    018XX S Michigan Ave\n",
      "183515    002XX S Michigan ave\n",
      "206783    002XX S Michigan Ave\n",
      "262876    023XX S Michigan Ave\n",
      "296902    002XX S Michigan Ave\n",
      "323133    0000X S Michigan Ave\n",
      "344405    014XX S Michigan Ave\n",
      "388309    039XX S Michigan Ave\n",
      "471503    014XX S Michigan Ave\n",
      "505910    0000X S Michigan Ave\n",
      "527601    018XX S Michigan Ave\n",
      "Name: block, dtype: object\n"
     ]
    }
   ],
   "source": [
    "print(michigan['block'])"
   ]
  },
  {
   "cell_type": "markdown",
   "metadata": {},
   "source": [
    "Geographically speaking, the closest block to 2111 S Michigan is 23XX S Michigan, so use statistics from that block to approximate. The following lines limit the dataset to observations from 23XX S Michigan, then calculate the percentage of reported crimes by type from that block over the 2017-2018 period (7,823 crimes total).\n",
    "\n",
    "The most likely crime type on this block is THEFT (27.05% of all reports), followed by BATTERY (18.79%) and CRIMINAL DAMAGE (9.69%). A full list of crime types and probabilities is available below."
   ]
  },
  {
   "cell_type": "code",
   "execution_count": 39,
   "metadata": {},
   "outputs": [],
   "source": [
    "michigan_23xx = full_data[full_data['block']==\"023XX S Michigan Ave\"]['zipcode'].iloc[0]"
   ]
  },
  {
   "cell_type": "code",
   "execution_count": 40,
   "metadata": {},
   "outputs": [],
   "source": [
    "local_zip_data = full_data[full_data['zipcode']==michigan_23xx]"
   ]
  },
  {
   "cell_type": "code",
   "execution_count": 41,
   "metadata": {},
   "outputs": [
    {
     "data": {
      "text/plain": [
       "primary_type\n",
       "THEFT                               0.270484\n",
       "BATTERY                             0.187907\n",
       "CRIMINAL DAMAGE                     0.096894\n",
       "DECEPTIVE PRACTICE                  0.081938\n",
       "ASSAULT                             0.078614\n",
       "OTHER OFFENSE                       0.061869\n",
       "ROBBERY                             0.050236\n",
       "MOTOR VEHICLE THEFT                 0.040394\n",
       "BURGLARY                            0.037070\n",
       "CRIMINAL TRESPASS                   0.036175\n",
       "NARCOTICS                           0.019558\n",
       "WEAPONS VIOLATION                   0.009204\n",
       "CRIM SEXUAL ASSAULT                 0.006775\n",
       "SEX OFFENSE                         0.005624\n",
       "OFFENSE INVOLVING CHILDREN          0.005241\n",
       "PUBLIC PEACE VIOLATION              0.004857\n",
       "INTERFERENCE WITH PUBLIC OFFICER    0.001406\n",
       "INTIMIDATION                        0.001150\n",
       "HOMICIDE                            0.001023\n",
       "PROSTITUTION                        0.000767\n",
       "STALKING                            0.000767\n",
       "ARSON                               0.000639\n",
       "LIQUOR LAW VIOLATION                0.000511\n",
       "KIDNAPPING                          0.000511\n",
       "GAMBLING                            0.000256\n",
       "OBSCENITY                           0.000128\n",
       "dtype: float64"
      ]
     },
     "execution_count": 41,
     "metadata": {},
     "output_type": "execute_result"
    }
   ],
   "source": [
    "local_zip_data.groupby([\"primary_type\"]).size().apply(lambda x: x/len(local_zip_data)).sort_values(ascending=False)"
   ]
  },
  {
   "cell_type": "markdown",
   "metadata": {},
   "source": [
    "#### Part B\n",
    "To answer this question, calculate the total number of 'THEFT' calls, then look at the proportion that are in each neighborhood. We know prior that the call type is 'THEFT', our job is to determine the probability that the call comes from either neighborhood.\n",
    "\n",
    "Community area number of West Garfield Park: 26\n",
    "Community area number of East Garfield Park: 27\n",
    "Community area number of Uptown: 3\n",
    "\n",
    "First, filter the data on primary_type = \"THEFT\", then split out all observations by community area."
   ]
  },
  {
   "cell_type": "code",
   "execution_count": 42,
   "metadata": {},
   "outputs": [],
   "source": [
    "theft = full_data[full_data['primary_type']=='THEFT']\n",
    "#uptown_garfield_theft = theft[theft['community_area'].isin(['3', '27'])]"
   ]
  },
  {
   "cell_type": "code",
   "execution_count": 43,
   "metadata": {},
   "outputs": [
    {
     "name": "stdout",
     "output_type": "stream",
     "text": [
      "Probability of theft call being from Uptown:  1.50%\n",
      "Probability of theft call being from West Garfield Park:  0.95%\n",
      "Probability of theft call being from East Garfield Park:  0.99%\n"
     ]
    }
   ],
   "source": [
    "theft_pr = theft.groupby([\"community_area\"]).size().apply(lambda x: x/len(theft)).sort_values(ascending=False)\n",
    "print(\"Probability of theft call being from Uptown: \", \"{:.2%}\".format(theft_pr.loc['3']))\n",
    "print(\"Probability of theft call being from West Garfield Park: \", \"{:.2%}\".format(theft_pr.loc['26']))\n",
    "print(\"Probability of theft call being from East Garfield Park: \", \"{:.2%}\".format(theft_pr.loc['27']))"
   ]
  },
  {
   "cell_type": "markdown",
   "metadata": {},
   "source": [
    "Of all theft calls, the probability that the call came from Uptown is 1.50% and the probability the call came from East Garfield Park is 0.99%, a difference of 0.51% (more likely to be from Uptown).\n",
    "\n",
    "It's similar for West Garfield Park: the probability the theft call came from there is 0.95%, which is less likely than Uptown by 0.55% (still more likely to be from Uptown)."
   ]
  },
  {
   "cell_type": "markdown",
   "metadata": {},
   "source": [
    "#### Part C\n",
    "In this case, the salient piece of information is that there are 100 Battery calls from Garfield Park and 160 Battery calls from Uptown. Because we know the call that comes in is about Battery, we can limit our universe to those 260 Battery calls. Thus, the probabilities that the Battery calls originates from each neighborhood is as follows:"
   ]
  },
  {
   "cell_type": "code",
   "execution_count": 44,
   "metadata": {},
   "outputs": [
    {
     "name": "stdout",
     "output_type": "stream",
     "text": [
      "Probability the Battery call comes from Garfield Park is 38.46%\n",
      "Probability the Battery call comes from Uptown is 61.54%\n"
     ]
    }
   ],
   "source": [
    "print(\"Probability the Battery call comes from Garfield Park is\", \"{:.2%}\".format(100/260))\n",
    "print(\"Probability the Battery call comes from Uptown is\", \"{:.2%}\".format(160/260))"
   ]
  },
  {
   "cell_type": "markdown",
   "metadata": {},
   "source": [
    "Therefore, it is about 23% more likely the call comes from Uptown than Garfield Park."
   ]
  }
 ],
 "metadata": {
  "kernelspec": {
   "display_name": "Python 3",
   "language": "python",
   "name": "python3"
  },
  "language_info": {
   "codemirror_mode": {
    "name": "ipython",
    "version": 3
   },
   "file_extension": ".py",
   "mimetype": "text/x-python",
   "name": "python",
   "nbconvert_exporter": "python",
   "pygments_lexer": "ipython3",
   "version": "3.7.0"
  }
 },
 "nbformat": 4,
 "nbformat_minor": 2
}
